{
 "cells": [
  {
   "cell_type": "markdown",
   "metadata": {},
   "source": [
    "### Visualizing the regression manifold of NONA VS LR VS KNN on differently arranged synthetic data"
   ]
  },
  {
   "cell_type": "code",
   "execution_count": null,
   "metadata": {},
   "outputs": [],
   "source": [
    "import numpy as np\n",
    "import matplotlib.pyplot as plt\n",
    "from sklearn.linear_model import LinearRegression\n",
    "from sklearn.metrics import mean_squared_error as mse\n",
    "import models\n",
    "import similarity as s\n",
    "import torch\n",
    "import torch.optim as optim\n",
    "import torch.nn as nn\n",
    "from torch.utils.data import TensorDataset, DataLoader\n",
    "from mpl_toolkits import mplot3d\n",
    "from sklearn.neighbors import KNeighborsRegressor\n",
    "from tqdm import tqdm\n",
    "from importlib import reload"
   ]
  },
  {
   "cell_type": "code",
   "execution_count": null,
   "metadata": {},
   "outputs": [],
   "source": [
    "grid_size = 100\n",
    "axes = 1\n",
    "g1, g2 = np.meshgrid(np.linspace(-axes, axes, grid_size), np.linspace(-axes, axes, grid_size))\n",
    "grid_points = torch.tensor(np.c_[g1.ravel(), g2.ravel()], dtype=torch.float64)"
   ]
  },
  {
   "cell_type": "code",
   "execution_count": null,
   "metadata": {},
   "outputs": [],
   "source": [
    "np.random.seed(42)\n",
    "\n",
    "num_samples = 1000\n",
    "X = np.random.uniform(-1,1, (num_samples,2))\n",
    "X = torch.tensor(X, dtype=torch.float64)\n",
    "x1, x2 = X[:,0], X[:,1]\n",
    "\n",
    "noise = np.random.normal(0, 0.1, num_samples)"
   ]
  },
  {
   "cell_type": "markdown",
   "metadata": {},
   "source": [
    "Linearly separable data"
   ]
  },
  {
   "cell_type": "code",
   "execution_count": null,
   "metadata": {},
   "outputs": [],
   "source": [
    "y = (X[:, 1] / 2 + 1/2  + noise)\n",
    "y = torch.tensor(y, dtype=torch.float64)\n",
    "\n",
    "plt.figure(figsize=(6, 6), dpi=250)\n",
    "plt.scatter(X[:, 0], X[:, 1], c=y)\n",
    "\n",
    "plt.xlim(-1, 1)\n",
    "plt.ylim(-1, 1)\n",
    "plt.axis(False)\n",
    "plt.show()"
   ]
  },
  {
   "cell_type": "code",
   "execution_count": null,
   "metadata": {},
   "outputs": [],
   "source": [
    "model = LinearRegression()\n",
    "model.fit(X, y)\n",
    "\n",
    "preds = model.predict(grid_points).reshape(grid_size, grid_size)\n",
    "\n",
    "plt.figure(figsize=(6, 6), dpi=250)\n",
    "plt.contourf(g1, g2, preds, levels=20)\n",
    "\n",
    "plt.xlim(-1, 1)\n",
    "plt.ylim(-1, 1)\n",
    "plt.axis(False)\n",
    "plt.show()\n"
   ]
  },
  {
   "cell_type": "code",
   "execution_count": null,
   "metadata": {},
   "outputs": [],
   "source": [
    "model = KNeighborsRegressor()\n",
    "model.fit(X, y)\n",
    "\n",
    "preds = model.predict(grid_points).reshape(grid_size, grid_size)\n",
    "\n",
    "plt.figure(figsize=(6, 6), dpi=250)\n",
    "plt.contourf(g1, g2, preds, levels=20)\n",
    "\n",
    "plt.xlim(-1, 1)\n",
    "plt.ylim(-1, 1)\n",
    "plt.axis(False)\n",
    "plt.show()"
   ]
  },
  {
   "cell_type": "code",
   "execution_count": null,
   "metadata": {},
   "outputs": [],
   "source": [
    "model = models.NONA()\n",
    "preds = model(grid_points, X, y).reshape(grid_size, grid_size)\n",
    "\n",
    "# Plot the heatmap using contourf\n",
    "plt.figure(figsize=(6, 6), dpi=250)\n",
    "plt.contourf(g1, g2, preds, levels=20)\n",
    "\n",
    "plt.xlim(-1, 1)\n",
    "plt.ylim(-1, 1)\n",
    "plt.axis(False)\n",
    "plt.show()"
   ]
  },
  {
   "cell_type": "code",
   "execution_count": null,
   "metadata": {},
   "outputs": [],
   "source": [
    "data = TensorDataset(X,y)\n",
    "loader = DataLoader(data, shuffle=True, batch_size=32)\n",
    "softstep = s.SoftStep(dims=2, step_fn=1)\n",
    "model = models.NONA(softstep=softstep)\n",
    "criterion = torch.nn.MSELoss()\n",
    "optimizer = torch.optim.Adam(model.parameters())\n",
    "\n",
    "for epoch in range(800):\n",
    "    loss = 0.0\n",
    "    for x_b,y_b in loader:\n",
    "        outputs = model(x_b,x_b,y_b)\n",
    "        l = criterion(outputs, y_b)\n",
    "        optimizer.zero_grad()\n",
    "        l.backward()\n",
    "        optimizer.step()\n",
    "        loss += l.item()\n",
    "    loss /= len(loader)\n",
    "\n",
    "preds = model(grid_points, X, y).reshape(grid_size, grid_size).detach().numpy()\n",
    "\n",
    "# Plot the heatmap using contourf\n",
    "plt.figure(figsize=(6, 6), dpi=250)\n",
    "plt.contourf(g1, g2, preds, levels=20)\n",
    "\n",
    "plt.xlim(-1, 1)\n",
    "plt.ylim(-1, 1)\n",
    "plt.axis(False)\n",
    "plt.show()"
   ]
  },
  {
   "cell_type": "markdown",
   "metadata": {},
   "source": [
    "Radially separable data"
   ]
  },
  {
   "cell_type": "code",
   "execution_count": null,
   "metadata": {},
   "outputs": [],
   "source": [
    "# y = np.sqrt(X[:,0]**2 + X[:,1]**2) + noise\n",
    "y = torch.min(1-torch.abs(X[:,0]), 1-torch.abs(X[:,1])) + noise\n",
    "y = torch.tensor(y, dtype=torch.float64)\n",
    "\n",
    "\n",
    "# Plot the data\n",
    "plt.figure(figsize=(6, 6), dpi=250)\n",
    "plt.scatter(X[:, 0], X[:, 1], c=y)\n",
    "\n",
    "plt.xlim(-1, 1)\n",
    "plt.ylim(-1, 1)\n",
    "plt.axis(False)\n",
    "plt.show()"
   ]
  },
  {
   "cell_type": "code",
   "execution_count": null,
   "metadata": {},
   "outputs": [],
   "source": [
    "model = LinearRegression()\n",
    "model.fit(X, y)\n",
    "\n",
    "preds = model.predict(grid_points).reshape(grid_size, grid_size)\n",
    "\n",
    "plt.figure(figsize=(6, 6), dpi=250)\n",
    "plt.contourf(g1, g2, preds, levels=20)\n",
    "\n",
    "plt.xlim(-1, 1)\n",
    "plt.ylim(-1, 1)\n",
    "plt.axis(False)\n",
    "plt.show()"
   ]
  },
  {
   "cell_type": "code",
   "execution_count": null,
   "metadata": {},
   "outputs": [],
   "source": [
    "model = KNeighborsRegressor()\n",
    "model.fit(X, y)\n",
    "\n",
    "preds = model.predict(grid_points).reshape(grid_size, grid_size)\n",
    "\n",
    "plt.figure(figsize=(6, 6), dpi=250)\n",
    "plt.contourf(g1, g2, preds, levels=20)\n",
    "\n",
    "plt.xlim(-1, 1)\n",
    "plt.ylim(-1, 1)\n",
    "plt.axis(False)\n",
    "plt.show()"
   ]
  },
  {
   "cell_type": "code",
   "execution_count": null,
   "metadata": {},
   "outputs": [],
   "source": [
    "model = models.NONA()\n",
    "preds = model(grid_points, X, y).reshape(grid_size, grid_size)\n",
    "\n",
    "# Plot the heatmap using contourf\n",
    "plt.figure(figsize=(6, 6), dpi=250)\n",
    "plt.contourf(g1, g2, preds, levels=20)\n",
    "\n",
    "plt.xlim(-1, 1)\n",
    "plt.ylim(-1, 1)\n",
    "plt.axis(False)\n",
    "plt.show()"
   ]
  },
  {
   "cell_type": "code",
   "execution_count": null,
   "metadata": {},
   "outputs": [],
   "source": [
    "data = TensorDataset(X,y)\n",
    "loader = DataLoader(data, shuffle=True, batch_size=32)\n",
    "softstep = s.SoftStep(dims=2, step_fn=1)\n",
    "model = models.NONA(softstep=softstep)\n",
    "criterion = torch.nn.MSELoss()\n",
    "optimizer = torch.optim.Adam(model.parameters())\n",
    "\n",
    "for epoch in range(800):\n",
    "    loss = 0.0\n",
    "    for x_b,y_b in loader:\n",
    "        outputs = model(x_b,x_b,y_b)\n",
    "        l = criterion(outputs, y_b)\n",
    "        optimizer.zero_grad()\n",
    "        l.backward()\n",
    "        optimizer.step()\n",
    "        loss += l.item()\n",
    "    loss /= len(loader)\n",
    "\n",
    "preds = model(grid_points, X, y).reshape(grid_size, grid_size).detach().numpy()\n",
    "\n",
    "# Plot the heatmap using contourf\n",
    "plt.figure(figsize=(6, 6), dpi=250)\n",
    "plt.contourf(g1, g2, preds, levels=20)\n",
    "\n",
    "plt.xlim(-1, 1)\n",
    "plt.ylim(-1, 1)\n",
    "plt.axis(False)\n",
    "plt.show()"
   ]
  },
  {
   "cell_type": "markdown",
   "metadata": {},
   "source": [
    "Spiral data"
   ]
  },
  {
   "cell_type": "code",
   "execution_count": null,
   "metadata": {},
   "outputs": [],
   "source": [
    "x1, x2 = X[:, 0], X[:, 1]\n",
    "r = np.sqrt(x1**2 + x2**2)\n",
    "theta = np.arctan2(x2, x1) \n",
    "theta_normalized = (theta + np.pi) / (2 * np.pi)\n",
    "y = (theta + 5 * r) % (2 * np.pi) + noise\n",
    "y = y / (2 * np.pi)\n",
    "y = torch.tensor(y, dtype=torch.float64)\n",
    "\n",
    "plt.figure(figsize=(6, 6), dpi=250)\n",
    "plt.scatter(X[:, 0], X[:, 1], c=y)\n",
    "\n",
    "plt.xlim(-1, 1)\n",
    "plt.ylim(-1, 1)\n",
    "plt.axis(False)\n",
    "plt.show()\n"
   ]
  },
  {
   "cell_type": "code",
   "execution_count": null,
   "metadata": {},
   "outputs": [],
   "source": [
    "model = LinearRegression()\n",
    "model.fit(X, y)\n",
    "\n",
    "preds = model.predict(grid_points).reshape(grid_size, grid_size)\n",
    "\n",
    "plt.figure(figsize=(6, 6), dpi=250)\n",
    "plt.contourf(g1, g2, preds, levels=20)\n",
    "\n",
    "plt.xlim(-1, 1)\n",
    "plt.ylim(-1, 1)\n",
    "plt.axis(False)\n",
    "plt.show()"
   ]
  },
  {
   "cell_type": "code",
   "execution_count": null,
   "metadata": {},
   "outputs": [],
   "source": [
    "model = KNeighborsRegressor()\n",
    "model.fit(X, y)\n",
    "\n",
    "preds = model.predict(grid_points).reshape(grid_size, grid_size)\n",
    "\n",
    "plt.figure(figsize=(6, 6), dpi=250)\n",
    "plt.contourf(g1, g2, preds, levels=20)\n",
    "\n",
    "plt.xlim(-1, 1)\n",
    "plt.ylim(-1, 1)\n",
    "plt.axis(False)\n",
    "plt.show()"
   ]
  },
  {
   "cell_type": "code",
   "execution_count": null,
   "metadata": {},
   "outputs": [],
   "source": [
    "model = models.NONA()\n",
    "preds = model(grid_points, X, y).reshape(grid_size, grid_size)\n",
    "\n",
    "# Plot the heatmap using contourf\n",
    "plt.figure(figsize=(6, 6), dpi=250)\n",
    "plt.contourf(g1, g2, preds, levels=20)\n",
    "\n",
    "plt.xlim(-1, 1)\n",
    "plt.ylim(-1, 1)\n",
    "plt.axis(False)\n",
    "plt.show()"
   ]
  },
  {
   "cell_type": "code",
   "execution_count": null,
   "metadata": {},
   "outputs": [],
   "source": [
    "data = TensorDataset(X,y)\n",
    "loader = DataLoader(data, shuffle=True, batch_size=32)\n",
    "softstep = s.SoftStep(dims=2, step_fn=1)\n",
    "model = models.NONA(softstep=softstep)\n",
    "criterion = torch.nn.MSELoss()\n",
    "optimizer = torch.optim.Adam(model.parameters())\n",
    "\n",
    "for epoch in range(800):\n",
    "    loss = 0.0\n",
    "    for x_b,y_b in loader:\n",
    "        outputs = model(x_b,x_b,y_b)\n",
    "        l = criterion(outputs, y_b)\n",
    "        optimizer.zero_grad()\n",
    "        l.backward()\n",
    "        optimizer.step()\n",
    "        loss += l.item()\n",
    "    loss /= len(loader)\n",
    "\n",
    "preds = model(grid_points, X, y).reshape(grid_size, grid_size).detach().numpy()\n",
    "\n",
    "# Plot the heatmap using contourf\n",
    "plt.figure(figsize=(6, 6), dpi=250)\n",
    "plt.contourf(g1, g2, preds, levels=20)\n",
    "\n",
    "plt.xlim(-1, 1)\n",
    "plt.ylim(-1, 1)\n",
    "plt.axis(False)\n",
    "plt.show()"
   ]
  },
  {
   "cell_type": "markdown",
   "metadata": {},
   "source": [
    "Checkerboard data"
   ]
  },
  {
   "cell_type": "code",
   "execution_count": null,
   "metadata": {},
   "outputs": [],
   "source": [
    "f = 6\n",
    "y = np.sin(f * x1) * np.cos(f * x2) + noise\n",
    "y = torch.tensor(y, dtype=torch.float64)\n",
    "\n",
    "plt.figure(figsize=(6, 6), dpi=250)\n",
    "plt.scatter(X[:, 0], X[:, 1], c=y)\n",
    "\n",
    "plt.axis(False)\n",
    "plt.xlim(-1, 1)\n",
    "plt.ylim(-1, 1)\n",
    "plt.show()"
   ]
  },
  {
   "cell_type": "code",
   "execution_count": null,
   "metadata": {},
   "outputs": [],
   "source": [
    "model = LinearRegression()\n",
    "model.fit(X, y)\n",
    "\n",
    "preds = model.predict(grid_points).reshape(grid_size, grid_size)\n",
    "\n",
    "plt.figure(figsize=(6, 6), dpi=250)\n",
    "plt.contourf(g1, g2, preds, levels=20)\n",
    "\n",
    "plt.axis(False)\n",
    "plt.xlim(-1, 1)\n",
    "plt.ylim(-1, 1)\n",
    "plt.show()"
   ]
  },
  {
   "cell_type": "code",
   "execution_count": null,
   "metadata": {},
   "outputs": [],
   "source": [
    "model = KNeighborsRegressor()\n",
    "model.fit(X, y)\n",
    "\n",
    "preds = model.predict(grid_points).reshape(grid_size, grid_size)\n",
    "\n",
    "plt.figure(figsize=(6, 6), dpi=250)\n",
    "plt.contourf(g1, g2, preds, levels=20)\n",
    "\n",
    "plt.xlim(-1, 1)\n",
    "plt.ylim(-1, 1)\n",
    "plt.axis(False)\n",
    "plt.show()"
   ]
  },
  {
   "cell_type": "code",
   "execution_count": null,
   "metadata": {},
   "outputs": [],
   "source": [
    "model = models.NONA()\n",
    "preds = model(grid_points, X, y).reshape(grid_size, grid_size)\n",
    "\n",
    "# Plot the heatmap using contourf\n",
    "plt.figure(figsize=(6, 6), dpi=250)\n",
    "plt.contourf(g1, g2, preds, levels=20)\n",
    "\n",
    "plt.xlim(-1, 1)\n",
    "plt.ylim(-1, 1)\n",
    "plt.axis(False)\n",
    "plt.show()"
   ]
  },
  {
   "cell_type": "code",
   "execution_count": null,
   "metadata": {},
   "outputs": [],
   "source": [
    "data = TensorDataset(X,y)\n",
    "loader = DataLoader(data, shuffle=True, batch_size=32)\n",
    "softstep = s.SoftStep(dims=2, step_fn=1)\n",
    "model = models.NONA(softstep=softstep)\n",
    "criterion = torch.nn.MSELoss()\n",
    "optimizer = torch.optim.Adam(model.parameters())\n",
    "\n",
    "for epoch in range(800):\n",
    "    loss = 0.0\n",
    "    for x_b,y_b in loader:\n",
    "        outputs = model(x_b,x_b,y_b)\n",
    "        l = criterion(outputs, y_b)\n",
    "        optimizer.zero_grad()\n",
    "        l.backward()\n",
    "        optimizer.step()\n",
    "        loss += l.item()\n",
    "    loss /= len(loader)\n",
    "\n",
    "preds = model(grid_points, X, y).reshape(grid_size, grid_size).detach().numpy()\n",
    "\n",
    "# Plot the heatmap using contourf\n",
    "plt.figure(figsize=(6, 6), dpi=250)\n",
    "plt.contourf(g1, g2, preds, levels=20)\n",
    "\n",
    "plt.xlim(-1, 1)\n",
    "plt.ylim(-1, 1)\n",
    "plt.axis(False)\n",
    "plt.show()"
   ]
  }
 ],
 "metadata": {
  "kernelspec": {
   "display_name": ".venv",
   "language": "python",
   "name": "python3"
  },
  "language_info": {
   "codemirror_mode": {
    "name": "ipython",
    "version": 3
   },
   "file_extension": ".py",
   "mimetype": "text/x-python",
   "name": "python",
   "nbconvert_exporter": "python",
   "pygments_lexer": "ipython3",
   "version": "3.9.18"
  },
  "orig_nbformat": 4
 },
 "nbformat": 4,
 "nbformat_minor": 2
}
